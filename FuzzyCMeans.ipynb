{
 "cells": [
  {
   "cell_type": "code",
   "execution_count": 1,
   "metadata": {},
   "outputs": [],
   "source": [
    "import time\n",
    "import numpy as np\n",
    "from scipy.spatial.distance import cdist\n",
    "from sklearn.cluster import KMeans\n",
    "\n",
    "\n",
    "def fcm(data, n_clusters=1, n_init=30, m=2, max_iter=1, tol=1e-16):\n",
    "\n",
    "    min_cost = np.inf\n",
    "    for iter_init in range(n_init):\n",
    "\n",
    "        # Randomly initialize centers\n",
    "#         centers = data[np.random.choice(\n",
    "#             data.shape[0], size=n_clusters, replace=False\n",
    "#             ), :]\n",
    "        centers=[[1,2], [8,7],[14, 5]]\n",
    "\n",
    "        # Compute initial distances\n",
    "        # Zeros are replaced by eps to avoid division issues\n",
    "        dist = np.fmax(\n",
    "            cdist(centers, data, metric='sqeuclidean'),\n",
    "            np.finfo(np.float64).eps\n",
    "        )\n",
    "\n",
    "        for iter1 in range(max_iter):\n",
    "\n",
    "            # Compute memberships       \n",
    "            u = (1 / dist) ** (1 / (m-1))\n",
    "            um = (u / u.sum(axis=0))**m\n",
    "\n",
    "            # Recompute centers\n",
    "            prev_centers = centers\n",
    "            centers = um.dot(data) / um.sum(axis=1)[:, None]\n",
    "\n",
    "            dist = cdist(centers, data, metric='sqeuclidean')\n",
    "\n",
    "            if np.linalg.norm(centers - prev_centers) < tol:\n",
    "                break\n",
    "\n",
    "        # Compute cost\n",
    "        cost = np.sum(um * dist)\n",
    "        if cost < min_cost:\n",
    "            min_cost = cost\n",
    "            min_centers = centers\n",
    "            mem = um.argmax(axis=0)\n",
    "\n",
    "    return min_centers, mem, um\n",
    "\n",
    "\n"
   ]
  },
  {
   "cell_type": "code",
   "execution_count": 2,
   "metadata": {},
   "outputs": [],
   "source": [
    "points = {'A':(2,3),\n",
    "          'B':(7,9),\n",
    "          'C':(11,4),\n",
    "          'D':(3,3),\n",
    "          'E':(14,12),\n",
    "          'F':(4,5),\n",
    "          'G':(12,5),\n",
    "          'H':(9,7),\n",
    "          'J':(6,4),\n",
    "          'K':(2,9),\n",
    "          'L':(4,7),\n",
    "          'M':(6,8)}\n",
    "\n",
    "XY = np.array(list(points.values()))\n",
    "X_labels = np.array(list(points.keys())) # global variable used for functions CompiteDistance\n",
    "\n",
    "N=3"
   ]
  },
  {
   "cell_type": "code",
   "execution_count": 3,
   "metadata": {},
   "outputs": [
    {
     "name": "stdout",
     "output_type": "stream",
     "text": [
      "Average FCM time = 0.20055508613586426\n",
      "Average kMeans time = 0.03120732307434082\n",
      "Ratio of time = 6.426539234336443\n"
     ]
    }
   ],
   "source": [
    "if __name__ == '__main__':\n",
    "    data = XY\n",
    "    k = 3\n",
    "\n",
    "    repeats = 1\n",
    "\n",
    "    # Time This\n",
    "    fcm_time = 0\n",
    "    for iter1 in range(repeats):\n",
    "        fcm_start = time.time()\n",
    "        centers, mem, um = fcm(\n",
    "            data, n_clusters=k, n_init=30, m=2, max_iter=300, tol=1e-16\n",
    "        )\n",
    "        fcm_time += (time.time() - fcm_start)\n",
    "    print('Average FCM time =', fcm_time/repeats)\n",
    "\n",
    "    # Time This (as well)\n",
    "    km_time = 0\n",
    "    for iter1 in range(repeats):\n",
    "        km_start = time.time()\n",
    "        km1 = KMeans(\n",
    "            n_clusters=k, n_init=30, max_iter=300, tol=1e-16\n",
    "        ).fit(data)\n",
    "        km_time += (time.time() - km_start)\n",
    "    print('Average kMeans time =', km_time/repeats)\n",
    "\n",
    "    print('Ratio of time =', fcm_time / km_time)"
   ]
  },
  {
   "cell_type": "code",
   "execution_count": 4,
   "metadata": {},
   "outputs": [
    {
     "data": {
      "text/plain": [
       "(array([0, 1, 2, 0, 2, 0, 2, 2, 0, 1, 1, 1], dtype=int64),\n",
       " array([[ 3.51278138,  4.17955506],\n",
       "        [ 6.18455139,  8.32568971],\n",
       "        [11.47993327,  5.78004154]]))"
      ]
     },
     "execution_count": 4,
     "metadata": {},
     "output_type": "execute_result"
    }
   ],
   "source": [
    "mem, centers"
   ]
  },
  {
   "cell_type": "code",
   "execution_count": 44,
   "metadata": {},
   "outputs": [
    {
     "data": {
      "text/plain": [
       "(array([0, 1, 2, 0, 2, 0, 2, 2, 0, 1, 1, 1], dtype=int64), 0.9788386769450795)"
      ]
     },
     "execution_count": 44,
     "metadata": {},
     "output_type": "execute_result"
    }
   ],
   "source": [
    "um.argmax(axis=0), um.max()"
   ]
  },
  {
   "cell_type": "code",
   "execution_count": 37,
   "metadata": {},
   "outputs": [
    {
     "data": {
      "text/plain": [
       "array([0, 2, 1, 0, 1, 0, 1, 1, 0, 2, 2, 2])"
      ]
     },
     "execution_count": 37,
     "metadata": {},
     "output_type": "execute_result"
    }
   ],
   "source": [
    "km1.labels_"
   ]
  },
  {
   "cell_type": "code",
   "execution_count": 8,
   "metadata": {},
   "outputs": [
    {
     "data": {
      "text/html": [
       "<div>\n",
       "<style scoped>\n",
       "    .dataframe tbody tr th:only-of-type {\n",
       "        vertical-align: middle;\n",
       "    }\n",
       "\n",
       "    .dataframe tbody tr th {\n",
       "        vertical-align: top;\n",
       "    }\n",
       "\n",
       "    .dataframe thead th {\n",
       "        text-align: right;\n",
       "    }\n",
       "</style>\n",
       "<table border=\"1\" class=\"dataframe\">\n",
       "  <thead>\n",
       "    <tr style=\"text-align: right;\">\n",
       "      <th></th>\n",
       "      <th>0</th>\n",
       "      <th>1</th>\n",
       "      <th>2</th>\n",
       "    </tr>\n",
       "  </thead>\n",
       "  <tbody>\n",
       "    <tr>\n",
       "      <th>0</th>\n",
       "      <td>0.800160</td>\n",
       "      <td>0.005149</td>\n",
       "      <td>0.001138</td>\n",
       "    </tr>\n",
       "    <tr>\n",
       "      <th>1</th>\n",
       "      <td>0.000876</td>\n",
       "      <td>0.876031</td>\n",
       "      <td>0.001185</td>\n",
       "    </tr>\n",
       "    <tr>\n",
       "      <th>2</th>\n",
       "      <td>0.002817</td>\n",
       "      <td>0.005048</td>\n",
       "      <td>0.767158</td>\n",
       "    </tr>\n",
       "    <tr>\n",
       "      <th>3</th>\n",
       "      <td>0.883755</td>\n",
       "      <td>0.001631</td>\n",
       "      <td>0.000381</td>\n",
       "    </tr>\n",
       "    <tr>\n",
       "      <th>4</th>\n",
       "      <td>0.019868</td>\n",
       "      <td>0.104615</td>\n",
       "      <td>0.286872</td>\n",
       "    </tr>\n",
       "    <tr>\n",
       "      <th>5</th>\n",
       "      <td>0.867578</td>\n",
       "      <td>0.002869</td>\n",
       "      <td>0.000225</td>\n",
       "    </tr>\n",
       "    <tr>\n",
       "      <th>6</th>\n",
       "      <td>0.000137</td>\n",
       "      <td>0.000360</td>\n",
       "      <td>0.939541</td>\n",
       "    </tr>\n",
       "    <tr>\n",
       "      <th>7</th>\n",
       "      <td>0.010174</td>\n",
       "      <td>0.157189</td>\n",
       "      <td>0.252668</td>\n",
       "    </tr>\n",
       "    <tr>\n",
       "      <th>8</th>\n",
       "      <td>0.433370</td>\n",
       "      <td>0.047690</td>\n",
       "      <td>0.015205</td>\n",
       "    </tr>\n",
       "    <tr>\n",
       "      <th>9</th>\n",
       "      <td>0.139702</td>\n",
       "      <td>0.282018</td>\n",
       "      <td>0.009059</td>\n",
       "    </tr>\n",
       "    <tr>\n",
       "      <th>10</th>\n",
       "      <td>0.174010</td>\n",
       "      <td>0.273903</td>\n",
       "      <td>0.003540</td>\n",
       "    </tr>\n",
       "    <tr>\n",
       "      <th>11</th>\n",
       "      <td>0.000045</td>\n",
       "      <td>0.978839</td>\n",
       "      <td>0.000016</td>\n",
       "    </tr>\n",
       "  </tbody>\n",
       "</table>\n",
       "</div>"
      ],
      "text/plain": [
       "           0         1         2\n",
       "0   0.800160  0.005149  0.001138\n",
       "1   0.000876  0.876031  0.001185\n",
       "2   0.002817  0.005048  0.767158\n",
       "3   0.883755  0.001631  0.000381\n",
       "4   0.019868  0.104615  0.286872\n",
       "5   0.867578  0.002869  0.000225\n",
       "6   0.000137  0.000360  0.939541\n",
       "7   0.010174  0.157189  0.252668\n",
       "8   0.433370  0.047690  0.015205\n",
       "9   0.139702  0.282018  0.009059\n",
       "10  0.174010  0.273903  0.003540\n",
       "11  0.000045  0.978839  0.000016"
      ]
     },
     "execution_count": 8,
     "metadata": {},
     "output_type": "execute_result"
    }
   ],
   "source": [
    "import pandas as pd\n",
    "pd.DataFrame(um.T)"
   ]
  },
  {
   "cell_type": "code",
   "execution_count": 29,
   "metadata": {},
   "outputs": [],
   "source": [
    "centers = data[np.random.choice(data.shape[0], size=k, replace=False)]"
   ]
  },
  {
   "cell_type": "code",
   "execution_count": 30,
   "metadata": {},
   "outputs": [
    {
     "data": {
      "text/plain": [
       "array([[ 6,  4],\n",
       "       [14, 12]])"
      ]
     },
     "execution_count": 30,
     "metadata": {},
     "output_type": "execute_result"
    }
   ],
   "source": [
    "data[np.random.choice(data.shape[0], size=2, replace=False)]"
   ]
  },
  {
   "cell_type": "code",
   "execution_count": 32,
   "metadata": {},
   "outputs": [],
   "source": [
    "centers=[[1,2], [8,7],[14, 5]]"
   ]
  },
  {
   "cell_type": "code",
   "execution_count": 9,
   "metadata": {},
   "outputs": [
    {
     "ename": "NameError",
     "evalue": "name 'n_init' is not defined",
     "output_type": "error",
     "traceback": [
      "\u001b[1;31m---------------------------------------------------------------------------\u001b[0m",
      "\u001b[1;31mNameError\u001b[0m                                 Traceback (most recent call last)",
      "\u001b[1;32m<ipython-input-9-0c9ed2b4d9d8>\u001b[0m in \u001b[0;36m<module>\u001b[1;34m\u001b[0m\n\u001b[0;32m      1\u001b[0m \u001b[0mmin_cost\u001b[0m \u001b[1;33m=\u001b[0m \u001b[0mnp\u001b[0m\u001b[1;33m.\u001b[0m\u001b[0minf\u001b[0m\u001b[1;33m\u001b[0m\u001b[1;33m\u001b[0m\u001b[0m\n\u001b[1;32m----> 2\u001b[1;33m \u001b[1;32mfor\u001b[0m \u001b[0miter_init\u001b[0m \u001b[1;32min\u001b[0m \u001b[0mrange\u001b[0m\u001b[1;33m(\u001b[0m\u001b[0mn_init\u001b[0m\u001b[1;33m)\u001b[0m\u001b[1;33m:\u001b[0m\u001b[1;33m\u001b[0m\u001b[1;33m\u001b[0m\u001b[0m\n\u001b[0m\u001b[0;32m      3\u001b[0m \u001b[1;33m\u001b[0m\u001b[0m\n\u001b[0;32m      4\u001b[0m     \u001b[1;31m# Randomly initialize centers\u001b[0m\u001b[1;33m\u001b[0m\u001b[1;33m\u001b[0m\u001b[1;33m\u001b[0m\u001b[0m\n\u001b[0;32m      5\u001b[0m \u001b[1;31m#         centers = data[np.random.choice(\u001b[0m\u001b[1;33m\u001b[0m\u001b[1;33m\u001b[0m\u001b[1;33m\u001b[0m\u001b[0m\n",
      "\u001b[1;31mNameError\u001b[0m: name 'n_init' is not defined"
     ]
    }
   ],
   "source": [
    "min_cost = np.inf\n",
    "for iter_init in range(n_init):\n",
    "\n",
    "    # Randomly initialize centers\n",
    "#         centers = data[np.random.choice(\n",
    "#             data.shape[0], size=n_clusters, replace=False\n",
    "#             ), :]\n",
    "    centers=[[1,2], [8,7],[14, 5]]\n",
    "\n",
    "    # Compute initial distances\n",
    "    # Zeros are replaced by eps to avoid division issues\n",
    "    dist = np.fmax(\n",
    "        cdist(centers, data, metric='sqeuclidean'),\n",
    "        np.finfo(np.float64).eps\n",
    "    )\n",
    "\n",
    "    for iter1 in range(max_iter):\n",
    "\n",
    "        # Compute memberships       \n",
    "        u = (1 / dist) ** (1 / (m-1))\n",
    "        um = (u / u.sum(axis=0))**m\n",
    "\n",
    "        # Recompute centers\n",
    "        prev_centers = centers\n",
    "        centers = um.dot(data) / um.sum(axis=1)[:, None]\n",
    "\n",
    "        dist = cdist(centers, data, metric='sqeuclidean')\n",
    "\n",
    "        if np.linalg.norm(centers - prev_centers) < tol:\n",
    "            break\n",
    "\n",
    "    # Compute cost\n",
    "    cost = np.sum(um * dist)\n",
    "    if cost < min_cost:\n",
    "        min_cost = cost\n",
    "        min_centers = centers\n",
    "        mem = um.argmax(axis=0)"
   ]
  },
  {
   "cell_type": "code",
   "execution_count": 12,
   "metadata": {},
   "outputs": [],
   "source": [
    "points = {'A':(2,3),\n",
    "          'B':(7,9),\n",
    "          'C':(11,4),\n",
    "          'D':(3,3),\n",
    "          'E':(14,12),\n",
    "          'F':(4,5),\n",
    "          'G':(12,5),\n",
    "          'H':(9,7),\n",
    "          'J':(6,4),\n",
    "          'K':(2,9),\n",
    "          'L':(4,7),\n",
    "          'M':(6,8)}\n",
    "\n",
    "XY = np.array(list(points.values()))\n",
    "X_labels = np.array(list(points.keys())) # global variable used for functions CompiteDistance\n",
    "\n",
    "N=3\n",
    "centers=[[1,2], [8,7],[14, 5]]"
   ]
  },
  {
   "cell_type": "code",
   "execution_count": 11,
   "metadata": {},
   "outputs": [],
   "source": [
    "from sklearn.metrics import pairwise_distances"
   ]
  },
  {
   "cell_type": "code",
   "execution_count": 13,
   "metadata": {},
   "outputs": [],
   "source": [
    "s = pairwise_distances(XY,centers )"
   ]
  },
  {
   "cell_type": "code",
   "execution_count": 16,
   "metadata": {},
   "outputs": [],
   "source": [
    "pd.DataFrame(s).to_csv('fuzzy_distances.csv')"
   ]
  },
  {
   "cell_type": "code",
   "execution_count": null,
   "metadata": {},
   "outputs": [],
   "source": []
  }
 ],
 "metadata": {
  "kernelspec": {
   "display_name": "Python 3",
   "language": "python",
   "name": "python3"
  },
  "language_info": {
   "codemirror_mode": {
    "name": "ipython",
    "version": 3
   },
   "file_extension": ".py",
   "mimetype": "text/x-python",
   "name": "python",
   "nbconvert_exporter": "python",
   "pygments_lexer": "ipython3",
   "version": "3.8.5"
  }
 },
 "nbformat": 4,
 "nbformat_minor": 4
}
