{
 "cells": [
  {
   "cell_type": "code",
   "execution_count": 50,
   "metadata": {},
   "outputs": [],
   "source": [
    "from sklearn.cluster import KMeans\n",
    "from sklearn.metrics import silhouette_score, silhouette_samples\n",
    "import numpy as np\n",
    "import pandas as pd"
   ]
  },
  {
   "cell_type": "code",
   "execution_count": 28,
   "metadata": {},
   "outputs": [],
   "source": [
    "def sse(x, c):\n",
    "    return sum((x - c) ** 2)\n",
    "\n",
    "def purity(actual, label, arg):\n",
    "    cluster_purity = {}\n",
    "    weighted_purity=0\n",
    "    for k in df[label].unique():\n",
    "        dom_count = np.max(df[df[label]==k][actual].value_counts())\n",
    "        size = len(df[df[label]==k])\n",
    "        cluster_purity[k] = dom_count/size\n",
    "        weighted_purity += cluster_purity[k]*(size/len(df[label]))\n",
    "    if arg == 'individual':\n",
    "        return cluster_purity\n",
    "    elif arg == 'weighted':\n",
    "        return weighted_purity"
   ]
  },
  {
   "cell_type": "code",
   "execution_count": 29,
   "metadata": {},
   "outputs": [],
   "source": [
    "points = {'A':(2,3),\n",
    "          'B':(7,9),\n",
    "          'C':(11,4),\n",
    "          'D':(3,3),\n",
    "          'E':(14,12),\n",
    "          'F':(4,5),\n",
    "          'G':(12,5),\n",
    "          'H':(9,7),\n",
    "          'J':(6,4),\n",
    "          'K':(2,9),\n",
    "          'L':(4,7),\n",
    "          'M':(6,8)}\n",
    "\n",
    "X = np.array(list(points.values()))\n",
    "X_labels = np.array(list(points.keys())) # global variable used for functions CompiteDistance\n",
    "df = pd.DataFrame(X)\n",
    "N=3"
   ]
  },
  {
   "cell_type": "code",
   "execution_count": 42,
   "metadata": {},
   "outputs": [
    {
     "name": "stdout",
     "output_type": "stream",
     "text": [
      "Centroids of the cluster: \n",
      " [[ 4.75  8.25]\n",
      " [ 3.75  3.75]\n",
      " [11.5   7.  ]]\n",
      "SSE for each cluster [17.5 11.5 51. ]\n",
      "Sum of the SSE for the clusters: 80.0\n"
     ]
    }
   ],
   "source": [
    "kmeans = KMeans(init='k-means++',n_clusters=3).fit(X)\n",
    "df['label3'] = kmeans.labels_\n",
    "cluster_sse = np.zeros(len(kmeans.cluster_centers_))\n",
    "\n",
    "for i in range(len(kmeans.labels_)):\n",
    "    cluster_sse[kmeans.labels_[i]] = cluster_sse[kmeans.labels_[i]] + sse(X[i], kmeans.cluster_centers_[kmeans.labels_[i]])\n",
    "sse_cluster = cluster_sse\n",
    "sse_total = sum(cluster_sse)\n",
    "    \n",
    "print('Centroids of the cluster:','\\n', kmeans.cluster_centers_)\n",
    "print('SSE for each cluster', sse_cluster)\n",
    "print('Sum of the SSE for the clusters:', sse_total)\n",
    "# print('Purity of each cluster', purity('h', 'label3', 'individual'))\n",
    "# print('Weighted purity of the entire clustering:', purity('h','label3', 'weighted'))\n"
   ]
  },
  {
   "cell_type": "code",
   "execution_count": 51,
   "metadata": {},
   "outputs": [
    {
     "data": {
      "text/plain": [
       "array([ 0.57051551,  0.42540092,  0.38041029,  0.633037  ,  0.2389146 ,\n",
       "        0.35440469,  0.48954495, -0.04054421,  0.33559394,  0.3058907 ,\n",
       "        0.18595659,  0.47758514])"
      ]
     },
     "execution_count": 51,
     "metadata": {},
     "output_type": "execute_result"
    }
   ],
   "source": [
    "score = silhouette_score(X, kmeans.labels_, metric='euclidean')\n",
    "samples = silhouette_samples(X, kmeans.labels_, metric='euclidean')\n",
    "samples"
   ]
  },
  {
   "cell_type": "code",
   "execution_count": 46,
   "metadata": {},
   "outputs": [
    {
     "data": {
      "text/plain": [
       "array([1, 0, 2, 1, 2, 1, 2, 2, 1, 0, 0, 0])"
      ]
     },
     "execution_count": 46,
     "metadata": {},
     "output_type": "execute_result"
    }
   ],
   "source": [
    "kmeans.labels_"
   ]
  },
  {
   "cell_type": "code",
   "execution_count": 47,
   "metadata": {},
   "outputs": [
    {
     "data": {
      "text/plain": [
       "array([[ 4.75,  8.25],\n",
       "       [ 3.75,  3.75],\n",
       "       [11.5 ,  7.  ]])"
      ]
     },
     "execution_count": 47,
     "metadata": {},
     "output_type": "execute_result"
    }
   ],
   "source": [
    "kmeans.cluster_centers_"
   ]
  },
  {
   "cell_type": "code",
   "execution_count": 13,
   "metadata": {},
   "outputs": [
    {
     "data": {
      "text/plain": [
       "80.0"
      ]
     },
     "execution_count": 13,
     "metadata": {},
     "output_type": "execute_result"
    }
   ],
   "source": [
    "model.inertia_"
   ]
  },
  {
   "cell_type": "code",
   "execution_count": 54,
   "metadata": {},
   "outputs": [],
   "source": [
    "from sklearn.metrics import pairwise_distances"
   ]
  },
  {
   "cell_type": "code",
   "execution_count": 66,
   "metadata": {},
   "outputs": [],
   "source": [
    "xp = [(7,9),(2,9),(4,7),(6,8)]\n",
    "C = [(4.75, 8.25),(3.75, 3.75),(11.5, 7)]\n",
    "Ic1 = [(7,9),(2,9),(4,7),(6,8),(2,3),(3,3),(4,5),(6,4)]\n",
    "Ic2 = [(7,9),(2,9),(4,7),(6,8),(11,4),(14,12),(12,5),(9,7)]"
   ]
  },
  {
   "cell_type": "code",
   "execution_count": 67,
   "metadata": {},
   "outputs": [],
   "source": [
    "p = pairwise_distances(Ic2)"
   ]
  },
  {
   "cell_type": "code",
   "execution_count": 68,
   "metadata": {},
   "outputs": [
    {
     "data": {
      "text/html": [
       "<div>\n",
       "<style scoped>\n",
       "    .dataframe tbody tr th:only-of-type {\n",
       "        vertical-align: middle;\n",
       "    }\n",
       "\n",
       "    .dataframe tbody tr th {\n",
       "        vertical-align: top;\n",
       "    }\n",
       "\n",
       "    .dataframe thead th {\n",
       "        text-align: right;\n",
       "    }\n",
       "</style>\n",
       "<table border=\"1\" class=\"dataframe\">\n",
       "  <thead>\n",
       "    <tr style=\"text-align: right;\">\n",
       "      <th></th>\n",
       "      <th>0</th>\n",
       "      <th>1</th>\n",
       "      <th>2</th>\n",
       "      <th>3</th>\n",
       "      <th>4</th>\n",
       "      <th>5</th>\n",
       "      <th>6</th>\n",
       "      <th>7</th>\n",
       "    </tr>\n",
       "  </thead>\n",
       "  <tbody>\n",
       "    <tr>\n",
       "      <th>0</th>\n",
       "      <td>0.000000</td>\n",
       "      <td>5.000000</td>\n",
       "      <td>3.605551</td>\n",
       "      <td>1.414214</td>\n",
       "      <td>6.403124</td>\n",
       "      <td>7.615773</td>\n",
       "      <td>6.403124</td>\n",
       "      <td>2.828427</td>\n",
       "    </tr>\n",
       "    <tr>\n",
       "      <th>1</th>\n",
       "      <td>5.000000</td>\n",
       "      <td>0.000000</td>\n",
       "      <td>2.828427</td>\n",
       "      <td>4.123106</td>\n",
       "      <td>10.295630</td>\n",
       "      <td>12.369317</td>\n",
       "      <td>10.770330</td>\n",
       "      <td>7.280110</td>\n",
       "    </tr>\n",
       "    <tr>\n",
       "      <th>2</th>\n",
       "      <td>3.605551</td>\n",
       "      <td>2.828427</td>\n",
       "      <td>0.000000</td>\n",
       "      <td>2.236068</td>\n",
       "      <td>7.615773</td>\n",
       "      <td>11.180340</td>\n",
       "      <td>8.246211</td>\n",
       "      <td>5.000000</td>\n",
       "    </tr>\n",
       "    <tr>\n",
       "      <th>3</th>\n",
       "      <td>1.414214</td>\n",
       "      <td>4.123106</td>\n",
       "      <td>2.236068</td>\n",
       "      <td>0.000000</td>\n",
       "      <td>6.403124</td>\n",
       "      <td>8.944272</td>\n",
       "      <td>6.708204</td>\n",
       "      <td>3.162278</td>\n",
       "    </tr>\n",
       "    <tr>\n",
       "      <th>4</th>\n",
       "      <td>6.403124</td>\n",
       "      <td>10.295630</td>\n",
       "      <td>7.615773</td>\n",
       "      <td>6.403124</td>\n",
       "      <td>0.000000</td>\n",
       "      <td>8.544004</td>\n",
       "      <td>1.414214</td>\n",
       "      <td>3.605551</td>\n",
       "    </tr>\n",
       "    <tr>\n",
       "      <th>5</th>\n",
       "      <td>7.615773</td>\n",
       "      <td>12.369317</td>\n",
       "      <td>11.180340</td>\n",
       "      <td>8.944272</td>\n",
       "      <td>8.544004</td>\n",
       "      <td>0.000000</td>\n",
       "      <td>7.280110</td>\n",
       "      <td>7.071068</td>\n",
       "    </tr>\n",
       "    <tr>\n",
       "      <th>6</th>\n",
       "      <td>6.403124</td>\n",
       "      <td>10.770330</td>\n",
       "      <td>8.246211</td>\n",
       "      <td>6.708204</td>\n",
       "      <td>1.414214</td>\n",
       "      <td>7.280110</td>\n",
       "      <td>0.000000</td>\n",
       "      <td>3.605551</td>\n",
       "    </tr>\n",
       "    <tr>\n",
       "      <th>7</th>\n",
       "      <td>2.828427</td>\n",
       "      <td>7.280110</td>\n",
       "      <td>5.000000</td>\n",
       "      <td>3.162278</td>\n",
       "      <td>3.605551</td>\n",
       "      <td>7.071068</td>\n",
       "      <td>3.605551</td>\n",
       "      <td>0.000000</td>\n",
       "    </tr>\n",
       "  </tbody>\n",
       "</table>\n",
       "</div>"
      ],
      "text/plain": [
       "          0          1          2         3          4          5          6  \\\n",
       "0  0.000000   5.000000   3.605551  1.414214   6.403124   7.615773   6.403124   \n",
       "1  5.000000   0.000000   2.828427  4.123106  10.295630  12.369317  10.770330   \n",
       "2  3.605551   2.828427   0.000000  2.236068   7.615773  11.180340   8.246211   \n",
       "3  1.414214   4.123106   2.236068  0.000000   6.403124   8.944272   6.708204   \n",
       "4  6.403124  10.295630   7.615773  6.403124   0.000000   8.544004   1.414214   \n",
       "5  7.615773  12.369317  11.180340  8.944272   8.544004   0.000000   7.280110   \n",
       "6  6.403124  10.770330   8.246211  6.708204   1.414214   7.280110   0.000000   \n",
       "7  2.828427   7.280110   5.000000  3.162278   3.605551   7.071068   3.605551   \n",
       "\n",
       "          7  \n",
       "0  2.828427  \n",
       "1  7.280110  \n",
       "2  5.000000  \n",
       "3  3.162278  \n",
       "4  3.605551  \n",
       "5  7.071068  \n",
       "6  3.605551  \n",
       "7  0.000000  "
      ]
     },
     "execution_count": 68,
     "metadata": {},
     "output_type": "execute_result"
    }
   ],
   "source": [
    "pd.DataFrame(p)"
   ]
  },
  {
   "cell_type": "code",
   "execution_count": null,
   "metadata": {},
   "outputs": [],
   "source": []
  }
 ],
 "metadata": {
  "kernelspec": {
   "display_name": "Python 3",
   "language": "python",
   "name": "python3"
  },
  "language_info": {
   "codemirror_mode": {
    "name": "ipython",
    "version": 3
   },
   "file_extension": ".py",
   "mimetype": "text/x-python",
   "name": "python",
   "nbconvert_exporter": "python",
   "pygments_lexer": "ipython3",
   "version": "3.8.5"
  }
 },
 "nbformat": 4,
 "nbformat_minor": 4
}
